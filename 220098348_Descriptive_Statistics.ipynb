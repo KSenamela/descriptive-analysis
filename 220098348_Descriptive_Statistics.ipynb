{
 "cells": [
  {
   "attachments": {},
   "cell_type": "markdown",
   "id": "0be8cda4",
   "metadata": {},
   "source": [
    "<h2 style=\"color:#FF8C00;\">AUTHER : <u>Klass Senamela</u><h2\\> \n",
    "<h2 style=\"color:#FF8C00;\">DATE  : <u>14 April 2023</u><h2\\>  \n",
    "<h2 style=\"color:#FF8C00;\">SOURCE: https://www.kaggle.com/datasets/rkiattisak/student-performance-in-mathematics<h2\\> \n",
    "\n",
    "<h2 style=\"color:#FF8C00;\">GITHUB URL : <a>https://github.com/KSenamela/descriptive-analysis<a\\></h2>  \n",
    "\n",
    "***\n",
    "\n",
    "<h2 style=\"color:#FF0000;\">Importing Libraries</h2>  "
   ]
  },
  {
   "cell_type": "code",
   "execution_count": 18,
   "id": "e04b4798",
   "metadata": {},
   "outputs": [],
   "source": [
    "from scipy.stats import kurtosis\n",
    "from scipy.stats import skew\n",
    "from IPython.display import HTML\n",
    "import pandas as pd\n",
    "import matplotlib.pyplot as plt\n",
    "import seaborn as sns\n",
    "import scipy.stats as stats\n",
    "import numpy as np"
   ]
  },
  {
   "cell_type": "markdown",
   "id": "99a9d7a4",
   "metadata": {},
   "source": [
    "<h2 style=\"color:#FF0000;\">Displaying Table </h2>  "
   ]
  },
  {
   "cell_type": "code",
   "execution_count": 102,
   "id": "7c5cbda5",
   "metadata": {},
   "outputs": [
    {
     "data": {
      "text/html": [
       "<table style=\"width:100%;background-color:#FF8C00;\" border=\"1\" class=\"dataframe\">\n",
       "  <thead>\n",
       "    <tr style=\"text-align: right;\">\n",
       "      <th>Gender</th>\n",
       "      <th>Race/ethnicity</th>\n",
       "      <th>Parental level of education</th>\n",
       "      <th>Lunch</th>\n",
       "      <th>Test preparation course</th>\n",
       "      <th>Math score</th>\n",
       "      <th>Reading score</th>\n",
       "    </tr>\n",
       "  </thead>\n",
       "  <tbody>\n",
       "    <tr>\n",
       "      <td>female</td>\n",
       "      <td>group D</td>\n",
       "      <td>some college</td>\n",
       "      <td>standard</td>\n",
       "      <td>completed</td>\n",
       "      <td>59</td>\n",
       "      <td>70</td>\n",
       "    </tr>\n",
       "    <tr>\n",
       "      <td>male</td>\n",
       "      <td>group D</td>\n",
       "      <td>associate's degree</td>\n",
       "      <td>standard</td>\n",
       "      <td>none</td>\n",
       "      <td>96</td>\n",
       "      <td>93</td>\n",
       "    </tr>\n",
       "    <tr>\n",
       "      <td>female</td>\n",
       "      <td>group D</td>\n",
       "      <td>some college</td>\n",
       "      <td>free/reduced</td>\n",
       "      <td>none</td>\n",
       "      <td>57</td>\n",
       "      <td>76</td>\n",
       "    </tr>\n",
       "    <tr>\n",
       "      <td>male</td>\n",
       "      <td>group B</td>\n",
       "      <td>some college</td>\n",
       "      <td>free/reduced</td>\n",
       "      <td>none</td>\n",
       "      <td>70</td>\n",
       "      <td>70</td>\n",
       "    </tr>\n",
       "    <tr>\n",
       "      <td>female</td>\n",
       "      <td>group D</td>\n",
       "      <td>associate's degree</td>\n",
       "      <td>standard</td>\n",
       "      <td>none</td>\n",
       "      <td>83</td>\n",
       "      <td>85</td>\n",
       "    </tr>\n",
       "    <tr>\n",
       "      <td>male</td>\n",
       "      <td>group C</td>\n",
       "      <td>some high school</td>\n",
       "      <td>standard</td>\n",
       "      <td>none</td>\n",
       "      <td>68</td>\n",
       "      <td>57</td>\n",
       "    </tr>\n",
       "    <tr>\n",
       "      <td>female</td>\n",
       "      <td>group E</td>\n",
       "      <td>associate's degree</td>\n",
       "      <td>standard</td>\n",
       "      <td>none</td>\n",
       "      <td>82</td>\n",
       "      <td>83</td>\n",
       "    </tr>\n",
       "    <tr>\n",
       "      <td>female</td>\n",
       "      <td>group B</td>\n",
       "      <td>some high school</td>\n",
       "      <td>standard</td>\n",
       "      <td>none</td>\n",
       "      <td>46</td>\n",
       "      <td>61</td>\n",
       "    </tr>\n",
       "    <tr>\n",
       "      <td>male</td>\n",
       "      <td>group C</td>\n",
       "      <td>some high school</td>\n",
       "      <td>standard</td>\n",
       "      <td>none</td>\n",
       "      <td>80</td>\n",
       "      <td>75</td>\n",
       "    </tr>\n",
       "    <tr>\n",
       "      <td>female</td>\n",
       "      <td>group C</td>\n",
       "      <td>bachelor's degree</td>\n",
       "      <td>standard</td>\n",
       "      <td>completed</td>\n",
       "      <td>57</td>\n",
       "      <td>69</td>\n",
       "    </tr>\n",
       "  </tbody>\n",
       "</table>"
      ],
      "text/plain": [
       "<IPython.core.display.HTML object>"
      ]
     },
     "execution_count": 102,
     "metadata": {},
     "output_type": "execute_result"
    }
   ],
   "source": [
    "data =pd.read_excel(\"Data.xlsx\")\n",
    "Table = data.head(10).to_html(index=False)\n",
    "Table=Table.replace('<table','<table style=\"width:100%;background-color:#FF8C00;\"')\n",
    "HTML(Table)"
   ]
  },
  {
   "cell_type": "markdown",
   "id": "a1e2117e",
   "metadata": {},
   "source": [
    "<h2 style=\"color:#FF0000;\">Cleaning The Dataset</h2>  "
   ]
  },
  {
   "cell_type": "code",
   "execution_count": 103,
   "id": "3ef2b40a",
   "metadata": {},
   "outputs": [
    {
     "data": {
      "text/html": [
       "<table style=\"width:100%;background-color:#FF8C00;\" border=\"1\" class=\"dataframe\">\n",
       "  <thead>\n",
       "    <tr style=\"text-align: right;\">\n",
       "      <th>Gender</th>\n",
       "      <th>Race/ethnicity</th>\n",
       "      <th>Parental level of education</th>\n",
       "      <th>Lunch</th>\n",
       "      <th>Test preparation course</th>\n",
       "      <th>Math score</th>\n",
       "      <th>Reading score</th>\n",
       "    </tr>\n",
       "  </thead>\n",
       "  <tbody>\n",
       "    <tr>\n",
       "      <td>1</td>\n",
       "      <td>4</td>\n",
       "      <td>1</td>\n",
       "      <td>1</td>\n",
       "      <td>1</td>\n",
       "      <td>59</td>\n",
       "      <td>70</td>\n",
       "    </tr>\n",
       "    <tr>\n",
       "      <td>2</td>\n",
       "      <td>4</td>\n",
       "      <td>2</td>\n",
       "      <td>1</td>\n",
       "      <td>0</td>\n",
       "      <td>96</td>\n",
       "      <td>93</td>\n",
       "    </tr>\n",
       "    <tr>\n",
       "      <td>1</td>\n",
       "      <td>4</td>\n",
       "      <td>1</td>\n",
       "      <td>2</td>\n",
       "      <td>0</td>\n",
       "      <td>57</td>\n",
       "      <td>76</td>\n",
       "    </tr>\n",
       "    <tr>\n",
       "      <td>2</td>\n",
       "      <td>2</td>\n",
       "      <td>1</td>\n",
       "      <td>2</td>\n",
       "      <td>0</td>\n",
       "      <td>70</td>\n",
       "      <td>70</td>\n",
       "    </tr>\n",
       "    <tr>\n",
       "      <td>1</td>\n",
       "      <td>4</td>\n",
       "      <td>2</td>\n",
       "      <td>1</td>\n",
       "      <td>0</td>\n",
       "      <td>83</td>\n",
       "      <td>85</td>\n",
       "    </tr>\n",
       "    <tr>\n",
       "      <td>2</td>\n",
       "      <td>3</td>\n",
       "      <td>3</td>\n",
       "      <td>1</td>\n",
       "      <td>0</td>\n",
       "      <td>68</td>\n",
       "      <td>57</td>\n",
       "    </tr>\n",
       "    <tr>\n",
       "      <td>1</td>\n",
       "      <td>5</td>\n",
       "      <td>2</td>\n",
       "      <td>1</td>\n",
       "      <td>0</td>\n",
       "      <td>82</td>\n",
       "      <td>83</td>\n",
       "    </tr>\n",
       "    <tr>\n",
       "      <td>1</td>\n",
       "      <td>2</td>\n",
       "      <td>3</td>\n",
       "      <td>1</td>\n",
       "      <td>0</td>\n",
       "      <td>46</td>\n",
       "      <td>61</td>\n",
       "    </tr>\n",
       "    <tr>\n",
       "      <td>2</td>\n",
       "      <td>3</td>\n",
       "      <td>3</td>\n",
       "      <td>1</td>\n",
       "      <td>0</td>\n",
       "      <td>80</td>\n",
       "      <td>75</td>\n",
       "    </tr>\n",
       "    <tr>\n",
       "      <td>1</td>\n",
       "      <td>3</td>\n",
       "      <td>4</td>\n",
       "      <td>1</td>\n",
       "      <td>1</td>\n",
       "      <td>57</td>\n",
       "      <td>69</td>\n",
       "    </tr>\n",
       "  </tbody>\n",
       "</table>"
      ],
      "text/plain": [
       "<IPython.core.display.HTML object>"
      ]
     },
     "execution_count": 103,
     "metadata": {},
     "output_type": "execute_result"
    }
   ],
   "source": [
    "# Replace 'female' with 1 and 'male' with 2 in the 'Gender' column\n",
    "data['Gender'] = data['Gender'].replace('female', 1)\n",
    "data['Gender'] = data['Gender'].replace('male', 2)\n",
    "\n",
    "# Replace 'group A' with 1 , 'group B' with 2,'group C' with 3,'group D' with 4,and 'group E' with 5 in the 'Race/ethnicity' column\n",
    "data['Race/ethnicity'] = data['Race/ethnicity'].replace('group A', 1)\n",
    "data['Race/ethnicity'] = data['Race/ethnicity'].replace('group B', 2)\n",
    "data['Race/ethnicity'] = data['Race/ethnicity'].replace('group C', 3)\n",
    "data['Race/ethnicity'] = data['Race/ethnicity'].replace('group D', 4)\n",
    "data['Race/ethnicity'] = data['Race/ethnicity'].replace('group E', 5)\n",
    "\n",
    "# Replace 'some college' with 1 , 'associate's degree' with 2,'some high school' with 3,'bachelor's degree' with 4,'master's degree' with 5 and 'high school' with 6 in the 'Race/ethnicity' column\n",
    "data['Parental level of education'] = data['Parental level of education'].replace('some college', 1)\n",
    "data['Parental level of education'] = data['Parental level of education'].replace(\"associate's degree\", 2)\n",
    "data['Parental level of education'] = data['Parental level of education'].replace(\"some high school\", 3)\n",
    "data['Parental level of education'] = data['Parental level of education'].replace(\"bachelor's degree\", 4)\n",
    "data['Parental level of education'] = data['Parental level of education'].replace(\"master's degree\", 5)\n",
    "data['Parental level of education'] = data['Parental level of education'].replace(\"high school\", 6)\n",
    "\n",
    "# Replace 'standard' with 1 and 'free/reduced' with 2 in the 'Lunch' column\n",
    "data['Lunch'] = data['Lunch'].replace('standard', 1)\n",
    "data['Lunch'] = data['Lunch'].replace('free/reduced', 2)\n",
    "\n",
    "# Replace 'completed' with 1 and 'none' with 2 in the 'Test preparation course' column\n",
    "data['Test preparation course'] = data['Test preparation course'].replace('completed', 1)\n",
    "data['Test preparation course'] = data['Test preparation course'].replace('none', 0)\n",
    "\n",
    "New_Table = data.head(10).to_html(index=False)\n",
    "New_Table=New_Table.replace('<table','<table style=\"width:100%;background-color:#FF8C00;\"')\n",
    "HTML(New_Table)"
   ]
  },
  {
   "cell_type": "markdown",
   "id": "3d020a1c",
   "metadata": {},
   "source": [
    "<h2 style=\"color:#FF0000;\">Descriptive analysis</h2>  "
   ]
  },
  {
   "cell_type": "code",
   "execution_count": 104,
   "id": "2121d745",
   "metadata": {},
   "outputs": [
    {
     "data": {
      "text/html": [
       "<table style=\"width:100%;background-color:#FF8C00;\" border=\"1\" class=\"dataframe\">\n",
       "  <thead>\n",
       "    <tr style=\"text-align: right;\">\n",
       "      <th></th>\n",
       "      <th>Gender</th>\n",
       "      <th>Race/ethnicity</th>\n",
       "      <th>Parental level of education</th>\n",
       "      <th>Lunch</th>\n",
       "      <th>Test preparation course</th>\n",
       "      <th>Math score</th>\n",
       "      <th>Reading score</th>\n",
       "    </tr>\n",
       "  </thead>\n",
       "  <tbody>\n",
       "    <tr>\n",
       "      <th>count</th>\n",
       "      <td>1000.000000</td>\n",
       "      <td>1000.000000</td>\n",
       "      <td>1000.000000</td>\n",
       "      <td>1000.000000</td>\n",
       "      <td>1000.000000</td>\n",
       "      <td>1000.000000</td>\n",
       "      <td>1000.000000</td>\n",
       "    </tr>\n",
       "    <tr>\n",
       "      <th>mean</th>\n",
       "      <td>1.508000</td>\n",
       "      <td>3.187000</td>\n",
       "      <td>3.248000</td>\n",
       "      <td>1.340000</td>\n",
       "      <td>0.344000</td>\n",
       "      <td>67.810000</td>\n",
       "      <td>70.382000</td>\n",
       "    </tr>\n",
       "    <tr>\n",
       "      <th>std</th>\n",
       "      <td>0.500186</td>\n",
       "      <td>1.144264</td>\n",
       "      <td>1.838988</td>\n",
       "      <td>0.473946</td>\n",
       "      <td>0.475279</td>\n",
       "      <td>15.250196</td>\n",
       "      <td>14.107413</td>\n",
       "    </tr>\n",
       "    <tr>\n",
       "      <th>min</th>\n",
       "      <td>1.000000</td>\n",
       "      <td>1.000000</td>\n",
       "      <td>1.000000</td>\n",
       "      <td>1.000000</td>\n",
       "      <td>0.000000</td>\n",
       "      <td>15.000000</td>\n",
       "      <td>25.000000</td>\n",
       "    </tr>\n",
       "    <tr>\n",
       "      <th>25%</th>\n",
       "      <td>1.000000</td>\n",
       "      <td>2.000000</td>\n",
       "      <td>2.000000</td>\n",
       "      <td>1.000000</td>\n",
       "      <td>0.000000</td>\n",
       "      <td>58.000000</td>\n",
       "      <td>61.000000</td>\n",
       "    </tr>\n",
       "    <tr>\n",
       "      <th>50%</th>\n",
       "      <td>2.000000</td>\n",
       "      <td>3.000000</td>\n",
       "      <td>3.000000</td>\n",
       "      <td>1.000000</td>\n",
       "      <td>0.000000</td>\n",
       "      <td>68.000000</td>\n",
       "      <td>70.500000</td>\n",
       "    </tr>\n",
       "    <tr>\n",
       "      <th>75%</th>\n",
       "      <td>2.000000</td>\n",
       "      <td>4.000000</td>\n",
       "      <td>5.000000</td>\n",
       "      <td>2.000000</td>\n",
       "      <td>1.000000</td>\n",
       "      <td>79.250000</td>\n",
       "      <td>80.000000</td>\n",
       "    </tr>\n",
       "    <tr>\n",
       "      <th>max</th>\n",
       "      <td>2.000000</td>\n",
       "      <td>5.000000</td>\n",
       "      <td>6.000000</td>\n",
       "      <td>2.000000</td>\n",
       "      <td>1.000000</td>\n",
       "      <td>100.000000</td>\n",
       "      <td>100.000000</td>\n",
       "    </tr>\n",
       "  </tbody>\n",
       "</table>"
      ],
      "text/plain": [
       "<IPython.core.display.HTML object>"
      ]
     },
     "execution_count": 104,
     "metadata": {},
     "output_type": "execute_result"
    }
   ],
   "source": [
    "Data_desc=data.describe()\n",
    "Table = Data_desc.to_html()\n",
    "Table=Table.replace('<table','<table style=\"width:100%;background-color:#FF8C00;\"')\n",
    "HTML(Table)"
   ]
  },
  {
   "cell_type": "markdown",
   "id": "f1d7237a",
   "metadata": {},
   "source": [
    "<h3 style=\"color:#FF8C00;\">Math Score For Females Descriptive Analysis</h3>  "
   ]
  },
  {
   "cell_type": "code",
   "execution_count": 105,
   "id": "821cb165",
   "metadata": {},
   "outputs": [
    {
     "data": {
      "text/html": [
       "<table style=\"width:100%;background-color:#FF8C00;\" border=\"1\" class=\"dataframe\">\n",
       "  <thead>\n",
       "    <tr style=\"text-align: right;\">\n",
       "      <th></th>\n",
       "      <th>Gender</th>\n",
       "      <th>Race/ethnicity</th>\n",
       "      <th>Parental level of education</th>\n",
       "      <th>Lunch</th>\n",
       "      <th>Test preparation course</th>\n",
       "      <th>Math score</th>\n",
       "      <th>Reading score</th>\n",
       "    </tr>\n",
       "  </thead>\n",
       "  <tbody>\n",
       "    <tr>\n",
       "      <th>count</th>\n",
       "      <td>492.0</td>\n",
       "      <td>492.000000</td>\n",
       "      <td>492.000000</td>\n",
       "      <td>492.000000</td>\n",
       "      <td>492.000000</td>\n",
       "      <td>492.00000</td>\n",
       "      <td>492.000000</td>\n",
       "    </tr>\n",
       "    <tr>\n",
       "      <th>mean</th>\n",
       "      <td>1.0</td>\n",
       "      <td>3.130081</td>\n",
       "      <td>3.310976</td>\n",
       "      <td>1.347561</td>\n",
       "      <td>0.359756</td>\n",
       "      <td>64.77439</td>\n",
       "      <td>73.473577</td>\n",
       "    </tr>\n",
       "    <tr>\n",
       "      <th>std</th>\n",
       "      <td>0.0</td>\n",
       "      <td>1.164368</td>\n",
       "      <td>1.863696</td>\n",
       "      <td>0.476680</td>\n",
       "      <td>0.480417</td>\n",
       "      <td>15.07915</td>\n",
       "      <td>14.086340</td>\n",
       "    </tr>\n",
       "    <tr>\n",
       "      <th>min</th>\n",
       "      <td>1.0</td>\n",
       "      <td>1.000000</td>\n",
       "      <td>1.000000</td>\n",
       "      <td>1.000000</td>\n",
       "      <td>0.000000</td>\n",
       "      <td>15.00000</td>\n",
       "      <td>30.000000</td>\n",
       "    </tr>\n",
       "    <tr>\n",
       "      <th>25%</th>\n",
       "      <td>1.0</td>\n",
       "      <td>2.000000</td>\n",
       "      <td>2.000000</td>\n",
       "      <td>1.000000</td>\n",
       "      <td>0.000000</td>\n",
       "      <td>55.00000</td>\n",
       "      <td>65.000000</td>\n",
       "    </tr>\n",
       "    <tr>\n",
       "      <th>50%</th>\n",
       "      <td>1.0</td>\n",
       "      <td>3.000000</td>\n",
       "      <td>3.000000</td>\n",
       "      <td>1.000000</td>\n",
       "      <td>0.000000</td>\n",
       "      <td>65.00000</td>\n",
       "      <td>74.000000</td>\n",
       "    </tr>\n",
       "    <tr>\n",
       "      <th>75%</th>\n",
       "      <td>1.0</td>\n",
       "      <td>4.000000</td>\n",
       "      <td>5.000000</td>\n",
       "      <td>2.000000</td>\n",
       "      <td>1.000000</td>\n",
       "      <td>75.00000</td>\n",
       "      <td>84.000000</td>\n",
       "    </tr>\n",
       "    <tr>\n",
       "      <th>max</th>\n",
       "      <td>1.0</td>\n",
       "      <td>5.000000</td>\n",
       "      <td>6.000000</td>\n",
       "      <td>2.000000</td>\n",
       "      <td>1.000000</td>\n",
       "      <td>98.00000</td>\n",
       "      <td>100.000000</td>\n",
       "    </tr>\n",
       "  </tbody>\n",
       "</table>"
      ],
      "text/plain": [
       "<IPython.core.display.HTML object>"
      ]
     },
     "execution_count": 105,
     "metadata": {},
     "output_type": "execute_result"
    }
   ],
   "source": [
    "females = data[data[\"Gender\"] == 1]\n",
    "\n",
    "summary= females.describe()\n",
    "Table_smmry = summary.to_html()\n",
    "Table_smmry=Table_smmry.replace('<table','<table style=\"width:100%;background-color:#FF8C00;\"')\n",
    "HTML(Table_smmry)"
   ]
  },
  {
   "cell_type": "markdown",
   "id": "56b19c86",
   "metadata": {},
   "source": [
    "<h4 style=\"color:#FF0000;\">Coeffient Variation: </h4>  "
   ]
  },
  {
   "cell_type": "code",
   "execution_count": 25,
   "id": "c638b15f",
   "metadata": {},
   "outputs": [
    {
     "name": "stdout",
     "output_type": "stream",
     "text": [
      "0.23255823687705068\n"
     ]
    }
   ],
   "source": [
    "coeffient_variation = np.std(females[\"Math score\"])/ np.mean(females[\"Math score\"])\n",
    "print(coeffient_variation)"
   ]
  },
  {
   "cell_type": "markdown",
   "id": "507929e6",
   "metadata": {},
   "source": [
    "<h4 style=\"color:#FF0000;\">Sum: </h4>  "
   ]
  },
  {
   "cell_type": "code",
   "execution_count": 233,
   "id": "711a183d",
   "metadata": {},
   "outputs": [
    {
     "name": "stdout",
     "output_type": "stream",
     "text": [
      "31869\n"
     ]
    }
   ],
   "source": [
    "sum = np.sum(females[\"Math score\"])\n",
    "print(sum)"
   ]
  },
  {
   "cell_type": "markdown",
   "id": "5221fafa",
   "metadata": {},
   "source": [
    "<h4 style=\"color:#FF0000;\">Standard Errors: </h4>  "
   ]
  },
  {
   "cell_type": "code",
   "execution_count": 26,
   "id": "d21dcbef",
   "metadata": {},
   "outputs": [
    {
     "name": "stdout",
     "output_type": "stream",
     "text": [
      "0.6791293631828513\n"
     ]
    }
   ],
   "source": [
    "se = np.std(females[\"Math score\"]) / np.sqrt(len(females[\"Math score\"]))\n",
    "print(se)"
   ]
  },
  {
   "cell_type": "markdown",
   "id": "9e333188",
   "metadata": {},
   "source": [
    "<h4 style=\"color:#FF0000;\">Sandard Variance: </h4>  "
   ]
  },
  {
   "cell_type": "code",
   "execution_count": 235,
   "id": "814390c7",
   "metadata": {},
   "outputs": [
    {
     "name": "stdout",
     "output_type": "stream",
     "text": [
      "226.91861243307542\n"
     ]
    }
   ],
   "source": [
    "sample_variance = np.var(females[\"Math score\"])\n",
    "\n",
    "print(sample_variance)"
   ]
  },
  {
   "cell_type": "markdown",
   "id": "a6bc7f35",
   "metadata": {},
   "source": [
    "<h4 style=\"color:#FF0000;\">Skewness: </h4>  "
   ]
  },
  {
   "cell_type": "code",
   "execution_count": 237,
   "id": "a9ec2a49",
   "metadata": {},
   "outputs": [
    {
     "name": "stdout",
     "output_type": "stream",
     "text": [
      "-0.32526374968062594\n"
     ]
    }
   ],
   "source": [
    "skewness = skew(females[\"Math score\"])\n",
    "print(skewness)"
   ]
  },
  {
   "cell_type": "markdown",
   "id": "729181dc",
   "metadata": {},
   "source": [
    "<h4 style=\"color:#FF0000;\">Kurtosis: </h4>  "
   ]
  },
  {
   "cell_type": "code",
   "execution_count": 238,
   "id": "d5fbd9bf",
   "metadata": {},
   "outputs": [
    {
     "name": "stdout",
     "output_type": "stream",
     "text": [
      "-0.13213100942637368\n"
     ]
    }
   ],
   "source": [
    "kurt = kurtosis(females[\"Math score\"])\n",
    "\n",
    "print(kurt)"
   ]
  },
  {
   "cell_type": "markdown",
   "id": "a58ee532",
   "metadata": {},
   "source": [
    "<h4 style=\"color:#FF0000;\">Mode: </h4>  "
   ]
  },
  {
   "cell_type": "code",
   "execution_count": 239,
   "id": "fc27a389",
   "metadata": {},
   "outputs": [
    {
     "name": "stdout",
     "output_type": "stream",
     "text": [
      "0    62\n",
      "Name: Math score, dtype: int64\n"
     ]
    }
   ],
   "source": [
    "Mode=females[\"Math score\"].mode()\n",
    "print(Mode)"
   ]
  },
  {
   "cell_type": "markdown",
   "id": "c6a7c08d",
   "metadata": {},
   "source": [
    "<h4 style=\"color:#FF0000;\">Range: </h4>  "
   ]
  },
  {
   "cell_type": "code",
   "execution_count": 281,
   "id": "e93198c4",
   "metadata": {},
   "outputs": [
    {
     "name": "stdout",
     "output_type": "stream",
     "text": [
      "83\n"
     ]
    }
   ],
   "source": [
    "min_value = np.min(females[\"Math score\"])\n",
    "max_value = np.max(females[\"Math score\"])\n",
    "\n",
    "Range=max_value-min_value\n",
    "print(Range)"
   ]
  },
  {
   "cell_type": "markdown",
   "id": "67d40414",
   "metadata": {},
   "source": [
    "<h4 style=\"color:#FF0000;\">Geometric Mean: </h4>  "
   ]
  },
  {
   "cell_type": "code",
   "execution_count": 243,
   "id": "567cc5e9",
   "metadata": {},
   "outputs": [
    {
     "name": "stdout",
     "output_type": "stream",
     "text": [
      "62.76071673963587\n"
     ]
    }
   ],
   "source": [
    "geometric_mean=stats.gmean(females[\"Math score\"])\n",
    "print(geometric_mean)"
   ]
  },
  {
   "cell_type": "markdown",
   "id": "c8dd8ac0",
   "metadata": {},
   "source": [
    "<h2 style=\"color:#FF8C00;\">Math Score For Females Graphs</h2>  "
   ]
  },
  {
   "cell_type": "markdown",
   "id": "4f9705f1",
   "metadata": {},
   "source": [
    "<h3 style=\"color:#FF0000;\">Five number summary: </h3> "
   ]
  },
  {
   "cell_type": "code",
   "execution_count": 244,
   "id": "ebbe4ee5",
   "metadata": {},
   "outputs": [
    {
     "name": "stdout",
     "output_type": "stream",
     "text": [
      "Minimum: 15\n",
      "Q1: 55.0\n",
      "Median: 65.0\n",
      "Q3: 75.0\n",
      "Maximum: 98\n"
     ]
    }
   ],
   "source": [
    "minimum = np.min(females[\"Math score\"])\n",
    "q1 = np.percentile(females[\"Math score\"], 25)\n",
    "median = np.median(females[\"Math score\"])\n",
    "q3 = np.percentile(females[\"Math score\"], 75)\n",
    "maximum = np.max(females[\"Math score\"])\n",
    "\n",
    "\n",
    "print(\"Minimum:\", minimum)\n",
    "print(\"Q1:\", q1)\n",
    "print(\"Median:\", median)\n",
    "print(\"Q3:\", q3)\n",
    "print(\"Maximum:\", maximum)"
   ]
  },
  {
   "cell_type": "markdown",
   "id": "498073ad",
   "metadata": {},
   "source": [
    "<h3 style=\"color:#FF0000;\">Boxplot: </h3>  "
   ]
  },
  {
   "cell_type": "code",
   "execution_count": 245,
   "id": "a868b619",
   "metadata": {
    "scrolled": true
   },
   "outputs": [
    {
     "data": {
      "image/png": "[encoded data removed]",
      "text/plain": [
       "<Figure size 640x480 with 1 Axes>"
      ]
     },
     "metadata": {},
     "output_type": "display_data"
    }
   ],
   "source": [
    "sns.boxplot(y=females[\"Math score\"])\n",
    "plt.show()"
   ]
  },
  {
   "cell_type": "markdown",
   "id": "4d648211",
   "metadata": {},
   "source": [
    "<h3 style=\"color:#FF0000;\">Frequency Table: </h3> "
   ]
  },
  {
   "cell_type": "code",
   "execution_count": 27,
   "id": "bc26ba4a",
   "metadata": {
    "scrolled": true
   },
   "outputs": [
    {
     "data": {
      "text/html": [
       "<table style=\"background-color:#FF8C00; width:100%\" border=\"1\" class=\"dataframe\">\n",
       "  <thead>\n",
       "    <tr style=\"text-align: right;\">\n",
       "      <th>Bins</th>\n",
       "      <th>Frequency</th>\n",
       "    </tr>\n",
       "  </thead>\n",
       "  <tbody>\n",
       "    <tr>\n",
       "      <td>15.0</td>\n",
       "      <td>3</td>\n",
       "    </tr>\n",
       "    <tr>\n",
       "      <td>23.3</td>\n",
       "      <td>7</td>\n",
       "    </tr>\n",
       "    <tr>\n",
       "      <td>31.6</td>\n",
       "      <td>19</td>\n",
       "    </tr>\n",
       "    <tr>\n",
       "      <td>39.9</td>\n",
       "      <td>44</td>\n",
       "    </tr>\n",
       "    <tr>\n",
       "      <td>48.2</td>\n",
       "      <td>59</td>\n",
       "    </tr>\n",
       "    <tr>\n",
       "      <td>56.5</td>\n",
       "      <td>104</td>\n",
       "    </tr>\n",
       "    <tr>\n",
       "      <td>64.8</td>\n",
       "      <td>113</td>\n",
       "    </tr>\n",
       "    <tr>\n",
       "      <td>73.1</td>\n",
       "      <td>68</td>\n",
       "    </tr>\n",
       "    <tr>\n",
       "      <td>81.4</td>\n",
       "      <td>56</td>\n",
       "    </tr>\n",
       "    <tr>\n",
       "      <td>89.7</td>\n",
       "      <td>19</td>\n",
       "    </tr>\n",
       "  </tbody>\n",
       "</table>"
      ],
      "text/plain": [
       "<IPython.core.display.HTML object>"
      ]
     },
     "execution_count": 27,
     "metadata": {},
     "output_type": "execute_result"
    }
   ],
   "source": [
    "freq, bins = np.histogram(females[\"Math score\"], bins=10)\n",
    "Data_freq = pd.DataFrame({'Bins': bins[:-1], 'Frequency': freq})\n",
    "New_freq=Data_freq.to_html(index=False)\n",
    "New_freq=New_freq.replace('<table','<table style=\"background-color:#FF8C00; width:100%\"')\n",
    "HTML(New_freq)"
   ]
  },
  {
   "cell_type": "markdown",
   "id": "b4ad0c03",
   "metadata": {},
   "source": [
    "<h3 style=\"color:#FF0000;\">Histogram: </h3>  "
   ]
  },
  {
   "cell_type": "code",
   "execution_count": 28,
   "id": "4bd49065",
   "metadata": {},
   "outputs": [
    {
     "data": {
      "image/png": "[encoded data removed]",
      "text/plain": [
       "<Figure size 640x480 with 1 Axes>"
      ]
     },
     "metadata": {},
     "output_type": "display_data"
    }
   ],
   "source": [
    "plt.hist(females[\"Math score\"],bins=10)\n",
    "plt.title('Distribution of Math Scores')\n",
    "plt.xlabel('Math score')\n",
    "plt.ylabel('Count')\n",
    "plt.show()"
   ]
  },
  {
   "cell_type": "markdown",
   "id": "8d95a3c4",
   "metadata": {},
   "source": [
    "***\n",
    "<h3 style=\"color:#FF8C00;\">Math score For Males Descriptive analysis</h3>  \n"
   ]
  },
  {
   "cell_type": "code",
   "execution_count": 106,
   "id": "4758720c",
   "metadata": {},
   "outputs": [
    {
     "data": {
      "text/html": [
       "<table style=\"width:100%;background-color:#FFD700;\" border=\"1\" class=\"dataframe\">\n",
       "  <thead>\n",
       "    <tr style=\"text-align: right;\">\n",
       "      <th></th>\n",
       "      <th>Gender</th>\n",
       "      <th>Race/ethnicity</th>\n",
       "      <th>Parental level of education</th>\n",
       "      <th>Lunch</th>\n",
       "      <th>Test preparation course</th>\n",
       "      <th>Math score</th>\n",
       "      <th>Reading score</th>\n",
       "    </tr>\n",
       "  </thead>\n",
       "  <tbody>\n",
       "    <tr>\n",
       "      <th>count</th>\n",
       "      <td>508.0</td>\n",
       "      <td>508.000000</td>\n",
       "      <td>508.000000</td>\n",
       "      <td>508.000000</td>\n",
       "      <td>508.000000</td>\n",
       "      <td>508.000000</td>\n",
       "      <td>508.000000</td>\n",
       "    </tr>\n",
       "    <tr>\n",
       "      <th>mean</th>\n",
       "      <td>2.0</td>\n",
       "      <td>3.242126</td>\n",
       "      <td>3.187008</td>\n",
       "      <td>1.332677</td>\n",
       "      <td>0.328740</td>\n",
       "      <td>70.750000</td>\n",
       "      <td>67.387795</td>\n",
       "    </tr>\n",
       "    <tr>\n",
       "      <th>std</th>\n",
       "      <td>0.0</td>\n",
       "      <td>1.122847</td>\n",
       "      <td>1.814490</td>\n",
       "      <td>0.471636</td>\n",
       "      <td>0.470218</td>\n",
       "      <td>14.847499</td>\n",
       "      <td>13.480690</td>\n",
       "    </tr>\n",
       "    <tr>\n",
       "      <th>min</th>\n",
       "      <td>2.0</td>\n",
       "      <td>1.000000</td>\n",
       "      <td>1.000000</td>\n",
       "      <td>1.000000</td>\n",
       "      <td>0.000000</td>\n",
       "      <td>20.000000</td>\n",
       "      <td>25.000000</td>\n",
       "    </tr>\n",
       "    <tr>\n",
       "      <th>25%</th>\n",
       "      <td>2.0</td>\n",
       "      <td>3.000000</td>\n",
       "      <td>2.000000</td>\n",
       "      <td>1.000000</td>\n",
       "      <td>0.000000</td>\n",
       "      <td>60.000000</td>\n",
       "      <td>58.000000</td>\n",
       "    </tr>\n",
       "    <tr>\n",
       "      <th>50%</th>\n",
       "      <td>2.0</td>\n",
       "      <td>3.000000</td>\n",
       "      <td>3.000000</td>\n",
       "      <td>1.000000</td>\n",
       "      <td>0.000000</td>\n",
       "      <td>72.000000</td>\n",
       "      <td>67.000000</td>\n",
       "    </tr>\n",
       "    <tr>\n",
       "      <th>75%</th>\n",
       "      <td>2.0</td>\n",
       "      <td>4.000000</td>\n",
       "      <td>5.000000</td>\n",
       "      <td>2.000000</td>\n",
       "      <td>1.000000</td>\n",
       "      <td>82.000000</td>\n",
       "      <td>77.000000</td>\n",
       "    </tr>\n",
       "    <tr>\n",
       "      <th>max</th>\n",
       "      <td>2.0</td>\n",
       "      <td>5.000000</td>\n",
       "      <td>6.000000</td>\n",
       "      <td>2.000000</td>\n",
       "      <td>1.000000</td>\n",
       "      <td>100.000000</td>\n",
       "      <td>100.000000</td>\n",
       "    </tr>\n",
       "  </tbody>\n",
       "</table>"
      ],
      "text/plain": [
       "<IPython.core.display.HTML object>"
      ]
     },
     "execution_count": 106,
     "metadata": {},
     "output_type": "execute_result"
    }
   ],
   "source": [
    "males = data[data[\"Gender\"] == 2]\n",
    "\n",
    "summary= males.describe()\n",
    "Table_smmry = summary.to_html()\n",
    "Table_smmry=Table_smmry.replace('<table','<table style=\"width:100%;background-color:#FFD700;\"')\n",
    "HTML(Table_smmry)"
   ]
  },
  {
   "cell_type": "markdown",
   "id": "0ca7bc65",
   "metadata": {},
   "source": [
    "<h4 style=\"color:#FF0000;\">Coeffient Variation: </h4>"
   ]
  },
  {
   "cell_type": "code",
   "execution_count": 107,
   "id": "847207be",
   "metadata": {},
   "outputs": [
    {
     "name": "stdout",
     "output_type": "stream",
     "text": [
      "0.20965198676653068\n"
     ]
    }
   ],
   "source": [
    "coeffient_variation = np.std(males[\"Math score\"])/ np.mean(males[\"Math score\"])\n",
    "print(coeffient_variation)"
   ]
  },
  {
   "cell_type": "markdown",
   "id": "629958e8",
   "metadata": {},
   "source": [
    "<h4 style=\"color:#FF0000;\">Sum: </h4>  "
   ]
  },
  {
   "cell_type": "code",
   "execution_count": 108,
   "id": "86ebe406",
   "metadata": {},
   "outputs": [
    {
     "name": "stdout",
     "output_type": "stream",
     "text": [
      "35941\n"
     ]
    }
   ],
   "source": [
    "sum = np.sum(males[\"Math score\"])\n",
    "print(sum)"
   ]
  },
  {
   "cell_type": "markdown",
   "id": "d6bd8afa",
   "metadata": {},
   "source": [
    "<h4 style=\"color:#FF0000;\">Standard Errors: </h4>  "
   ]
  },
  {
   "cell_type": "code",
   "execution_count": 45,
   "id": "b1ce77c8",
   "metadata": {},
   "outputs": [
    {
     "name": "stdout",
     "output_type": "stream",
     "text": [
      "0.6581025451614056\n"
     ]
    }
   ],
   "source": [
    "se = np.std(males[\"Math score\"]) / np.sqrt(len(males[\"Math score\"]))\n",
    "print(se)"
   ]
  },
  {
   "cell_type": "markdown",
   "id": "275efb1e",
   "metadata": {},
   "source": [
    "<h4 style=\"color:#FF0000;\">Sandard Variance: </h4>  "
   ]
  },
  {
   "cell_type": "code",
   "execution_count": 47,
   "id": "68779414",
   "metadata": {},
   "outputs": [
    {
     "name": "stdout",
     "output_type": "stream",
     "text": [
      "220.01427165354332\n"
     ]
    }
   ],
   "source": [
    "sample_variance = np.var(males[\"Math score\"])\n",
    "print(sample_variance)"
   ]
  },
  {
   "cell_type": "markdown",
   "id": "a3e0ed4d",
   "metadata": {},
   "source": [
    "<h4 style=\"color:#FF0000;\">Skewness: </h4> "
   ]
  },
  {
   "cell_type": "code",
   "execution_count": 48,
   "id": "910a7929",
   "metadata": {},
   "outputs": [
    {
     "name": "stdout",
     "output_type": "stream",
     "text": [
      "-0.2506503244083166\n"
     ]
    }
   ],
   "source": [
    "skewness = skew(males[\"Math score\"])\n",
    "print(skewness)"
   ]
  },
  {
   "cell_type": "markdown",
   "id": "9167dd9d",
   "metadata": {},
   "source": [
    "<h4 style=\"color:#FF0000;\">Kurtosis: </h4>  "
   ]
  },
  {
   "cell_type": "code",
   "execution_count": 49,
   "id": "ae578ec2",
   "metadata": {},
   "outputs": [
    {
     "name": "stdout",
     "output_type": "stream",
     "text": [
      "-0.22280450271345886\n"
     ]
    }
   ],
   "source": [
    "kurt = kurtosis(males[\"Math score\"])\n",
    "print(kurt)"
   ]
  },
  {
   "cell_type": "markdown",
   "id": "ede504a8",
   "metadata": {},
   "source": [
    "<h4 style=\"color:#FF0000;\">Mode: </h4>  "
   ]
  },
  {
   "cell_type": "code",
   "execution_count": 50,
   "id": "de88d541",
   "metadata": {},
   "outputs": [
    {
     "name": "stdout",
     "output_type": "stream",
     "text": [
      "0    76\n",
      "Name: Math score, dtype: int64\n"
     ]
    }
   ],
   "source": [
    "Mode=males[\"Math score\"].mode()\n",
    "print(Mode)"
   ]
  },
  {
   "cell_type": "markdown",
   "id": "938b9856",
   "metadata": {},
   "source": [
    "<h4 style=\"color:#FF0000;\">Range: </h4>  "
   ]
  },
  {
   "cell_type": "code",
   "execution_count": 51,
   "id": "8417ee34",
   "metadata": {},
   "outputs": [
    {
     "name": "stdout",
     "output_type": "stream",
     "text": [
      "80\n"
     ]
    }
   ],
   "source": [
    "min_value = np.min(males[\"Math score\"])\n",
    "max_value = np.max(males[\"Math score\"])\n",
    "\n",
    "Range=max_value-min_value\n",
    "print(Range)"
   ]
  },
  {
   "cell_type": "markdown",
   "id": "f6079959",
   "metadata": {},
   "source": [
    "<h4 style=\"color:#FF0000;\">Geometric Mean: </h4>  "
   ]
  },
  {
   "cell_type": "code",
   "execution_count": 52,
   "id": "949d9c9e",
   "metadata": {},
   "outputs": [
    {
     "name": "stdout",
     "output_type": "stream",
     "text": [
      "69.03055155772438\n"
     ]
    }
   ],
   "source": [
    "geometric_mean=stats.gmean(males[\"Math score\"])\n",
    "print(geometric_mean)"
   ]
  },
  {
   "cell_type": "markdown",
   "id": "a162819f",
   "metadata": {},
   "source": [
    "<h2 style=\"color:#FF8C00;\">Math Score For Males Graphs</h2>  \n",
    "\n",
    "<h3 style=\"color:#FF0000;\">Five number summary: </h3> "
   ]
  },
  {
   "cell_type": "code",
   "execution_count": 53,
   "id": "0a057371",
   "metadata": {},
   "outputs": [
    {
     "name": "stdout",
     "output_type": "stream",
     "text": [
      "Minimum: 20\n",
      "Q1: 60.0\n",
      "Median: 72.0\n",
      "Q3: 82.0\n",
      "Maximum: 100\n"
     ]
    }
   ],
   "source": [
    "minimum = np.min(males[\"Math score\"])\n",
    "q1 = np.percentile(males[\"Math score\"], 25)\n",
    "median = np.median(males[\"Math score\"])\n",
    "q3 = np.percentile(males[\"Math score\"], 75)\n",
    "maximum = np.max(males[\"Math score\"])\n",
    "\n",
    "print(\"Minimum:\", minimum)\n",
    "print(\"Q1:\", q1)\n",
    "print(\"Median:\", median)\n",
    "print(\"Q3:\", q3)\n",
    "print(\"Maximum:\", maximum)"
   ]
  },
  {
   "cell_type": "markdown",
   "id": "9c93459a",
   "metadata": {},
   "source": [
    "<h3 style=\"color:#FF0000;\">Boxplot: </h3> "
   ]
  },
  {
   "cell_type": "code",
   "execution_count": 54,
   "id": "5b3c5678",
   "metadata": {},
   "outputs": [
    {
     "data": {
      "image/png": "[encoded data removed]",
      "text/plain": [
       "<Figure size 640x480 with 1 Axes>"
      ]
     },
     "metadata": {},
     "output_type": "display_data"
    }
   ],
   "source": [
    "sns.boxplot(y=males[\"Math score\"],color='yellow')\n",
    "plt.show()"
   ]
  },
  {
   "cell_type": "markdown",
   "id": "54104da7",
   "metadata": {},
   "source": [
    "<h3 style=\"color:#FF0000;\">Frequency Table: </h3> "
   ]
  },
  {
   "cell_type": "code",
   "execution_count": 30,
   "id": "1e59e174",
   "metadata": {},
   "outputs": [
    {
     "data": {
      "text/html": [
       "<table style=\"background-color:#FFD700; width:100%\" border=\"1\" class=\"dataframe\">\n",
       "  <thead>\n",
       "    <tr style=\"text-align: right;\">\n",
       "      <th>Bins</th>\n",
       "      <th>Frequency</th>\n",
       "    </tr>\n",
       "  </thead>\n",
       "  <tbody>\n",
       "    <tr>\n",
       "      <td>20.0</td>\n",
       "      <td>1</td>\n",
       "    </tr>\n",
       "    <tr>\n",
       "      <td>28.0</td>\n",
       "      <td>6</td>\n",
       "    </tr>\n",
       "    <tr>\n",
       "      <td>36.0</td>\n",
       "      <td>11</td>\n",
       "    </tr>\n",
       "    <tr>\n",
       "      <td>44.0</td>\n",
       "      <td>37</td>\n",
       "    </tr>\n",
       "    <tr>\n",
       "      <td>52.0</td>\n",
       "      <td>66</td>\n",
       "    </tr>\n",
       "    <tr>\n",
       "      <td>60.0</td>\n",
       "      <td>87</td>\n",
       "    </tr>\n",
       "    <tr>\n",
       "      <td>68.0</td>\n",
       "      <td>99</td>\n",
       "    </tr>\n",
       "    <tr>\n",
       "      <td>76.0</td>\n",
       "      <td>101</td>\n",
       "    </tr>\n",
       "    <tr>\n",
       "      <td>84.0</td>\n",
       "      <td>60</td>\n",
       "    </tr>\n",
       "    <tr>\n",
       "      <td>92.0</td>\n",
       "      <td>40</td>\n",
       "    </tr>\n",
       "  </tbody>\n",
       "</table>"
      ],
      "text/plain": [
       "<IPython.core.display.HTML object>"
      ]
     },
     "execution_count": 30,
     "metadata": {},
     "output_type": "execute_result"
    }
   ],
   "source": [
    "freq, bins = np.histogram(males[\"Math score\"], bins=10)\n",
    "data_freq = pd.DataFrame({'Bins': bins[:-1], 'Frequency': freq})\n",
    "New_freq=data_freq.to_html(index=False)\n",
    "New_freq=New_freq.replace('<table','<table style=\"background-color:#FFD700; width:100%\"')\n",
    "HTML(New_freq)"
   ]
  },
  {
   "cell_type": "markdown",
   "id": "9a2d6303",
   "metadata": {},
   "source": [
    "<h3 style=\"color:#FF0000;\">Histogram: </h3> "
   ]
  },
  {
   "cell_type": "code",
   "execution_count": 32,
   "id": "b7a46b67",
   "metadata": {},
   "outputs": [
    {
     "data": {
      "image/png": "[encoded data removed]",
      "text/plain": [
       "<Figure size 640x480 with 1 Axes>"
      ]
     },
     "metadata": {},
     "output_type": "display_data"
    }
   ],
   "source": [
    "plt.hist(males[\"Math score\"],bins=10)\n",
    "plt.title('Distribution of Math Scores')\n",
    "plt.xlabel('Math score')\n",
    "plt.ylabel('Count')\n",
    "plt.show()"
   ]
  },
  {
   "cell_type": "markdown",
   "id": "b02065bb",
   "metadata": {},
   "source": [
    "<h2 style=\"color:#FF8C00;\">Math Score Descriptive Analysis</h2> "
   ]
  },
  {
   "cell_type": "markdown",
   "id": "d2b069fa",
   "metadata": {},
   "source": [
    "<h4 style=\"color:#FF0000;\">Coeffient Variation: </h4>  "
   ]
  },
  {
   "cell_type": "code",
   "execution_count": 33,
   "id": "4bb5ab30",
   "metadata": {},
   "outputs": [
    {
     "name": "stdout",
     "output_type": "stream",
     "text": [
      "0.2247834933072401\n"
     ]
    }
   ],
   "source": [
    "coeffient_variation = np.std(data[\"Math score\"])/ np.mean(data[\"Math score\"])\n",
    "print(coeffient_variation)"
   ]
  },
  {
   "cell_type": "markdown",
   "id": "7c15dfa2",
   "metadata": {},
   "source": [
    "<h4 style=\"color:#FF0000;\">Sum: </h4>  "
   ]
  },
  {
   "cell_type": "code",
   "execution_count": 34,
   "id": "7f0c7a5d",
   "metadata": {},
   "outputs": [
    {
     "name": "stdout",
     "output_type": "stream",
     "text": [
      "67810\n"
     ]
    }
   ],
   "source": [
    "sum = np.sum(data[\"Math score\"])\n",
    "print(sum)"
   ]
  },
  {
   "cell_type": "markdown",
   "id": "26e21057",
   "metadata": {},
   "source": [
    "<h4 style=\"color:#FF0000;\">Standard Errors: </h4>  "
   ]
  },
  {
   "cell_type": "code",
   "execution_count": 35,
   "id": "e1ed1086",
   "metadata": {},
   "outputs": [
    {
     "name": "stdout",
     "output_type": "stream",
     "text": [
      "0.48201234424026956\n"
     ]
    }
   ],
   "source": [
    "se = np.std(data[\"Math score\"]) / np.sqrt(len(data[\"Math score\"]))\n",
    "print(se)"
   ]
  },
  {
   "cell_type": "markdown",
   "id": "9d41b61e",
   "metadata": {},
   "source": [
    "<h4 style=\"color:#FF0000;\">Sandard Variance: </h4>  "
   ]
  },
  {
   "cell_type": "code",
   "execution_count": 36,
   "id": "8b6a75b6",
   "metadata": {},
   "outputs": [
    {
     "name": "stdout",
     "output_type": "stream",
     "text": [
      "232.33590000000012\n"
     ]
    }
   ],
   "source": [
    "sample_variance = np.var(data[\"Math score\"])\n",
    "print(sample_variance)"
   ]
  },
  {
   "cell_type": "markdown",
   "id": "3f4f76a5",
   "metadata": {},
   "source": [
    "<h4 style=\"color:#FF0000;\">Skewness:  </h4>  "
   ]
  },
  {
   "cell_type": "code",
   "execution_count": 37,
   "id": "36f2e43b",
   "metadata": {},
   "outputs": [
    {
     "name": "stdout",
     "output_type": "stream",
     "text": [
      "-0.2807784564250463\n"
     ]
    }
   ],
   "source": [
    "skewness = skew(data[\"Math score\"])\n",
    "print(skewness)"
   ]
  },
  {
   "cell_type": "markdown",
   "id": "6c47651c",
   "metadata": {},
   "source": [
    "<h4 style=\"color:#FF0000;\">Kurtosis: </h4>  "
   ]
  },
  {
   "cell_type": "code",
   "execution_count": 38,
   "id": "7a92d951",
   "metadata": {},
   "outputs": [
    {
     "name": "stdout",
     "output_type": "stream",
     "text": [
      "-0.13316659353009674\n"
     ]
    }
   ],
   "source": [
    "kurt = kurtosis(data[\"Math score\"])\n",
    "print(kurt)"
   ]
  },
  {
   "cell_type": "markdown",
   "id": "286062b5",
   "metadata": {},
   "source": [
    "<h4 style=\"color:#FF0000;\">Mode: </h4>  "
   ]
  },
  {
   "cell_type": "code",
   "execution_count": 39,
   "id": "205485e0",
   "metadata": {},
   "outputs": [
    {
     "name": "stdout",
     "output_type": "stream",
     "text": [
      "0    62\n",
      "Name: Math score, dtype: int64\n"
     ]
    }
   ],
   "source": [
    "Mode=data[\"Math score\"].mode()\n",
    "print(Mode)"
   ]
  },
  {
   "cell_type": "markdown",
   "id": "ce5f6b49",
   "metadata": {},
   "source": [
    "<h4 style=\"color:#FF0000;\">Mean: </h4> "
   ]
  },
  {
   "cell_type": "code",
   "execution_count": 40,
   "id": "cdee18a7",
   "metadata": {},
   "outputs": [
    {
     "name": "stdout",
     "output_type": "stream",
     "text": [
      "67.81\n"
     ]
    }
   ],
   "source": [
    "Mean=data[\"Math score\"].mean()\n",
    "print(Mean)"
   ]
  },
  {
   "cell_type": "markdown",
   "id": "8520a9e4",
   "metadata": {},
   "source": [
    "<h4 style=\"color:#FF0000;\">Range: </h4>  "
   ]
  },
  {
   "cell_type": "code",
   "execution_count": 41,
   "id": "c1fd3171",
   "metadata": {},
   "outputs": [
    {
     "name": "stdout",
     "output_type": "stream",
     "text": [
      "85\n"
     ]
    }
   ],
   "source": [
    "min_value = np.min(data[\"Math score\"])\n",
    "max_value = np.max(data[\"Math score\"])\n",
    "\n",
    "Range=max_value-min_value\n",
    "print(Range)"
   ]
  },
  {
   "cell_type": "markdown",
   "id": "497e0dc7",
   "metadata": {},
   "source": [
    "<h4 style=\"color:#FF0000;\">Geometric Mean:</h4>  "
   ]
  },
  {
   "cell_type": "code",
   "execution_count": 42,
   "id": "eed955a2",
   "metadata": {},
   "outputs": [
    {
     "name": "stdout",
     "output_type": "stream",
     "text": [
      "65.8711804989445\n"
     ]
    }
   ],
   "source": [
    "geometric_mean=stats.gmean(data[\"Math score\"])\n",
    "print(geometric_mean)"
   ]
  },
  {
   "cell_type": "markdown",
   "id": "a151ed75",
   "metadata": {},
   "source": [
    "<h2 style=\"color:#FF8C00;\">Math Score For Graphs</h2>\n",
    "\n",
    "<h4 style=\"color:#FF0000;\">Five number summary: </h4> "
   ]
  },
  {
   "cell_type": "code",
   "execution_count": 43,
   "id": "2f6c3039",
   "metadata": {},
   "outputs": [
    {
     "name": "stdout",
     "output_type": "stream",
     "text": [
      "Minimum: 15\n",
      "Q1: 58.0\n",
      "Median: 68.0\n",
      "Q3: 79.25\n",
      "Maximum: 100\n"
     ]
    }
   ],
   "source": [
    "minimum = np.min(data[\"Math score\"])\n",
    "q1 = np.percentile(data[\"Math score\"], 25)\n",
    "median = np.median(data[\"Math score\"])\n",
    "q3 = np.percentile(data[\"Math score\"], 75)\n",
    "maximum = np.max(data[\"Math score\"])\n",
    "\n",
    "print(\"Minimum:\", minimum)\n",
    "print(\"Q1:\", q1)\n",
    "print(\"Median:\", median)\n",
    "print(\"Q3:\", q3)\n",
    "print(\"Maximum:\", maximum)"
   ]
  },
  {
   "cell_type": "markdown",
   "id": "ee1dada7",
   "metadata": {},
   "source": [
    "<h4 style=\"color:#FF0000;\">Boxplot: </h4> "
   ]
  },
  {
   "cell_type": "code",
   "execution_count": 44,
   "id": "b517dacd",
   "metadata": {},
   "outputs": [
    {
     "data": {
      "image/png": "[encoded data removed]",
      "text/plain": [
       "<Figure size 640x480 with 1 Axes>"
      ]
     },
     "metadata": {},
     "output_type": "display_data"
    }
   ],
   "source": [
    "sns.boxplot(y=data[\"Math score\"])\n",
    "plt.show()"
   ]
  },
  {
   "cell_type": "markdown",
   "id": "52843382",
   "metadata": {},
   "source": [
    "<h4 style=\"color:#FF0000;\">Frequency Table:  </h4> "
   ]
  },
  {
   "cell_type": "code",
   "execution_count": 45,
   "id": "4f6b11ab",
   "metadata": {},
   "outputs": [
    {
     "data": {
      "text/html": [
       "<table style=\"background-color:#FFCC00; width:100%\" border=\"1\" class=\"dataframe\">\n",
       "  <thead>\n",
       "    <tr style=\"text-align: right;\">\n",
       "      <th>Bins</th>\n",
       "      <th>Frequency</th>\n",
       "    </tr>\n",
       "  </thead>\n",
       "  <tbody>\n",
       "    <tr>\n",
       "      <td>15.0</td>\n",
       "      <td>4</td>\n",
       "    </tr>\n",
       "    <tr>\n",
       "      <td>23.5</td>\n",
       "      <td>9</td>\n",
       "    </tr>\n",
       "    <tr>\n",
       "      <td>32.0</td>\n",
       "      <td>30</td>\n",
       "    </tr>\n",
       "    <tr>\n",
       "      <td>40.5</td>\n",
       "      <td>68</td>\n",
       "    </tr>\n",
       "    <tr>\n",
       "      <td>49.0</td>\n",
       "      <td>124</td>\n",
       "    </tr>\n",
       "    <tr>\n",
       "      <td>57.5</td>\n",
       "      <td>199</td>\n",
       "    </tr>\n",
       "    <tr>\n",
       "      <td>66.0</td>\n",
       "      <td>221</td>\n",
       "    </tr>\n",
       "    <tr>\n",
       "      <td>74.5</td>\n",
       "      <td>168</td>\n",
       "    </tr>\n",
       "    <tr>\n",
       "      <td>83.0</td>\n",
       "      <td>125</td>\n",
       "    </tr>\n",
       "    <tr>\n",
       "      <td>91.5</td>\n",
       "      <td>52</td>\n",
       "    </tr>\n",
       "  </tbody>\n",
       "</table>"
      ],
      "text/plain": [
       "<IPython.core.display.HTML object>"
      ]
     },
     "execution_count": 45,
     "metadata": {},
     "output_type": "execute_result"
    }
   ],
   "source": [
    "freq, bins = np.histogram(data[\"Math score\"], bins=10)\n",
    "Data_freq = pd.DataFrame({'Bins': bins[:-1], 'Frequency': freq})\n",
    "New_freq=Data_freq.to_html(index=False)\n",
    "New_freq=New_freq.replace('<table','<table style=\"background-color:#FFCC00; width:100%\"')\n",
    "HTML(New_freq)"
   ]
  },
  {
   "cell_type": "markdown",
   "id": "3a068a14",
   "metadata": {},
   "source": [
    "<h4 style=\"color:#FF0000;\">Histogram: </h4> "
   ]
  },
  {
   "cell_type": "code",
   "execution_count": 47,
   "id": "11fd0901",
   "metadata": {},
   "outputs": [
    {
     "data": {
      "image/png": "[encoded data removed]",
      "text/plain": [
       "<Figure size 640x480 with 1 Axes>"
      ]
     },
     "metadata": {},
     "output_type": "display_data"
    }
   ],
   "source": [
    "plt.hist(data[\"Math score\"],bins=10)\n",
    "plt.title('Distribution of Math Scores')\n",
    "plt.xlabel('Math score')\n",
    "plt.ylabel('Count')\n",
    "plt.show()"
   ]
  },
  {
   "cell_type": "markdown",
   "id": "537eb33e",
   "metadata": {},
   "source": [
    "<h2 style=\"color:#FF8C00;\">Reading score Descriptive Analysis</h2>  \n",
    "\n",
    "<h4 style=\"color:#FF0000;\">Coeffient Variation: </h4>  "
   ]
  },
  {
   "cell_type": "code",
   "execution_count": 109,
   "id": "e0f483f5",
   "metadata": {},
   "outputs": [
    {
     "name": "stdout",
     "output_type": "stream",
     "text": [
      "0.2003403895944624\n"
     ]
    }
   ],
   "source": [
    "coeffient_variation = np.std(data[\"Reading score\"])/ np.mean(data[\"Reading score\"])\n",
    "print(coeffient_variation)"
   ]
  },
  {
   "cell_type": "markdown",
   "id": "50ff89f6",
   "metadata": {},
   "source": [
    "<h4 style=\"color:#FF0000;\">Sum: </h4>  "
   ]
  },
  {
   "cell_type": "code",
   "execution_count": 110,
   "id": "71e7bb83",
   "metadata": {},
   "outputs": [
    {
     "name": "stdout",
     "output_type": "stream",
     "text": [
      "70382\n"
     ]
    }
   ],
   "source": [
    "sum = np.sum(data[\"Reading score\"])\n",
    "print(sum)"
   ]
  },
  {
   "cell_type": "markdown",
   "id": "06a413ba",
   "metadata": {},
   "source": [
    "<h4 style=\"color:#FF0000;\">Standard Errors: </h4>  "
   ]
  },
  {
   "cell_type": "code",
   "execution_count": 111,
   "id": "655837c0",
   "metadata": {},
   "outputs": [
    {
     "name": "stdout",
     "output_type": "stream",
     "text": [
      "0.44589244891565477\n"
     ]
    }
   ],
   "source": [
    "se = np.std(data[\"Reading score\"]) / np.sqrt(len(data[\"Reading score\"]))\n",
    "print(se)"
   ]
  },
  {
   "cell_type": "markdown",
   "id": "b6db9e28",
   "metadata": {},
   "source": [
    "<h4 style=\"color:#FF0000;\">Sandard Variance: </h4>  "
   ]
  },
  {
   "cell_type": "code",
   "execution_count": 112,
   "id": "625c5b64",
   "metadata": {},
   "outputs": [
    {
     "name": "stdout",
     "output_type": "stream",
     "text": [
      "198.82007599999977\n"
     ]
    }
   ],
   "source": [
    "sample_variance = np.var(data[\"Reading score\"])\n",
    "print(sample_variance)"
   ]
  },
  {
   "cell_type": "markdown",
   "id": "db8ab8d4",
   "metadata": {},
   "source": [
    "<h4 style=\"color:#FF0000;\">Skewness:  </h4>"
   ]
  },
  {
   "cell_type": "code",
   "execution_count": 118,
   "id": "f55e0af1",
   "metadata": {},
   "outputs": [
    {
     "name": "stdout",
     "output_type": "stream",
     "text": [
      "-0.18323011345740386\n"
     ]
    }
   ],
   "source": [
    "skewness = skew(data[\"Reading score\"])\n",
    "print(skewness)"
   ]
  },
  {
   "cell_type": "markdown",
   "id": "8166f0cc",
   "metadata": {},
   "source": [
    "<h4 style=\"color:#FF0000;\">Kurtosis: </h4>  "
   ]
  },
  {
   "cell_type": "code",
   "execution_count": 117,
   "id": "a9f8ecbe",
   "metadata": {},
   "outputs": [
    {
     "name": "stdout",
     "output_type": "stream",
     "text": [
      "-0.26818387401231014\n"
     ]
    }
   ],
   "source": [
    "kurt = kurtosis(data[\"Reading score\"])\n",
    "print(kurt)"
   ]
  },
  {
   "cell_type": "markdown",
   "id": "e1caaa4e",
   "metadata": {},
   "source": [
    "<h4 style=\"color:#FF0000;\">Mode: </h4>  "
   ]
  },
  {
   "cell_type": "code",
   "execution_count": 119,
   "id": "260718a2",
   "metadata": {},
   "outputs": [
    {
     "name": "stdout",
     "output_type": "stream",
     "text": [
      "0    72\n",
      "Name: Reading score, dtype: int64\n"
     ]
    }
   ],
   "source": [
    "Mode=data[\"Reading score\"].mode()\n",
    "print(Mode)"
   ]
  },
  {
   "cell_type": "markdown",
   "id": "ba9ee00b",
   "metadata": {},
   "source": [
    "<h4 style=\"color:#FF0000;\">Mean: </h4> "
   ]
  },
  {
   "cell_type": "code",
   "execution_count": 131,
   "id": "3e9f04de",
   "metadata": {},
   "outputs": [
    {
     "name": "stdout",
     "output_type": "stream",
     "text": [
      "70.382\n"
     ]
    }
   ],
   "source": [
    "Mean=data[\"Reading score\"].mean()\n",
    "print(Mean)"
   ]
  },
  {
   "cell_type": "markdown",
   "id": "5dea85ee",
   "metadata": {},
   "source": [
    "<h4 style=\"color:#FF0000;\">Range: </h4>  "
   ]
  },
  {
   "cell_type": "code",
   "execution_count": 130,
   "id": "357eccf6",
   "metadata": {},
   "outputs": [
    {
     "name": "stdout",
     "output_type": "stream",
     "text": [
      "75\n"
     ]
    }
   ],
   "source": [
    "min_value = np.min(data[\"Reading score\"])\n",
    "max_value = np.max(data[\"Reading score\"])\n",
    "\n",
    "Range=max_value-min_value\n",
    "print(Range)"
   ]
  },
  {
   "cell_type": "markdown",
   "id": "d3f6b3ca",
   "metadata": {},
   "source": [
    "<h4 style=\"color:#FF0000;\">Geometric Mean:</h4>  "
   ]
  },
  {
   "cell_type": "code",
   "execution_count": 122,
   "id": "da3d37ca",
   "metadata": {},
   "outputs": [
    {
     "name": "stdout",
     "output_type": "stream",
     "text": [
      "68.8523029477394\n"
     ]
    }
   ],
   "source": [
    "geometric_mean=stats.gmean(data[\"Reading score\"])\n",
    "print(geometric_mean) "
   ]
  },
  {
   "cell_type": "markdown",
   "id": "2032b929",
   "metadata": {},
   "source": [
    "<h2 style=\"color:#FF8C00;\">Reading Score For Graphs</h2>\n",
    "\n",
    "<h4 style=\"color:#FF0000;\">Five number summary: </h4> "
   ]
  },
  {
   "cell_type": "code",
   "execution_count": 129,
   "id": "399cb04f",
   "metadata": {},
   "outputs": [
    {
     "name": "stdout",
     "output_type": "stream",
     "text": [
      "Minimum: 25\n",
      "Q1: 61.0\n",
      "Median: 70.5\n",
      "Q3: 80.0\n",
      "Maximum: 100\n"
     ]
    }
   ],
   "source": [
    "minimum = np.min(data[\"Reading score\"])\n",
    "q1 = np.percentile(data[\"Reading score\"], 25)\n",
    "median = np.median(data[\"Reading score\"])\n",
    "q3 = np.percentile(data[\"Reading score\"], 75)\n",
    "maximum = np.max(data[\"Reading score\"])\n",
    "\n",
    "print(\"Minimum:\", minimum)\n",
    "print(\"Q1:\", q1)\n",
    "print(\"Median:\", median)\n",
    "print(\"Q3:\", q3)\n",
    "print(\"Maximum:\", maximum)"
   ]
  },
  {
   "cell_type": "markdown",
   "id": "fa46575d",
   "metadata": {},
   "source": [
    "<h4 style=\"color:#FF0000;\">Boxplot: </h4> "
   ]
  },
  {
   "cell_type": "code",
   "execution_count": 128,
   "id": "684eb4d9",
   "metadata": {},
   "outputs": [
    {
     "data": {
      "image/png": "[encoded data removed]",
      "text/plain": [
       "<Figure size 640x480 with 1 Axes>"
      ]
     },
     "metadata": {},
     "output_type": "display_data"
    }
   ],
   "source": [
    "sns.boxplot(y=data[\"Reading score\"])\n",
    "plt.show()"
   ]
  },
  {
   "cell_type": "markdown",
   "id": "b47fa4a9",
   "metadata": {},
   "source": [
    "<h4 style=\"color:#FF0000;\">Frequency Table:  </h4> "
   ]
  },
  {
   "cell_type": "code",
   "execution_count": 125,
   "id": "69584f9f",
   "metadata": {},
   "outputs": [
    {
     "data": {
      "text/html": [
       "<table style=\"background-color:#FFCC00; width:100%\" border=\"1\" class=\"dataframe\">\n",
       "  <thead>\n",
       "    <tr style=\"text-align: right;\">\n",
       "      <th>Bins</th>\n",
       "      <th>Frequency</th>\n",
       "    </tr>\n",
       "  </thead>\n",
       "  <tbody>\n",
       "    <tr>\n",
       "      <td>25.0</td>\n",
       "      <td>5</td>\n",
       "    </tr>\n",
       "    <tr>\n",
       "      <td>32.5</td>\n",
       "      <td>12</td>\n",
       "    </tr>\n",
       "    <tr>\n",
       "      <td>40.0</td>\n",
       "      <td>39</td>\n",
       "    </tr>\n",
       "    <tr>\n",
       "      <td>47.5</td>\n",
       "      <td>77</td>\n",
       "    </tr>\n",
       "    <tr>\n",
       "      <td>55.0</td>\n",
       "      <td>154</td>\n",
       "    </tr>\n",
       "    <tr>\n",
       "      <td>62.5</td>\n",
       "      <td>187</td>\n",
       "    </tr>\n",
       "    <tr>\n",
       "      <td>70.0</td>\n",
       "      <td>215</td>\n",
       "    </tr>\n",
       "    <tr>\n",
       "      <td>77.5</td>\n",
       "      <td>140</td>\n",
       "    </tr>\n",
       "    <tr>\n",
       "      <td>85.0</td>\n",
       "      <td>111</td>\n",
       "    </tr>\n",
       "    <tr>\n",
       "      <td>92.5</td>\n",
       "      <td>60</td>\n",
       "    </tr>\n",
       "  </tbody>\n",
       "</table>"
      ],
      "text/plain": [
       "<IPython.core.display.HTML object>"
      ]
     },
     "execution_count": 125,
     "metadata": {},
     "output_type": "execute_result"
    }
   ],
   "source": [
    "freq, bins = np.histogram(data[\"Reading score\"], bins=10)\n",
    "Data_freq = pd.DataFrame({'Bins': bins[:-1], 'Frequency': freq})\n",
    "New_freq=Data_freq.to_html(index=False)\n",
    "New_freq=New_freq.replace('<table','<table style=\"background-color:#FFCC00; width:100%\"')\n",
    "HTML(New_freq)"
   ]
  },
  {
   "cell_type": "markdown",
   "id": "17d36f67",
   "metadata": {},
   "source": [
    "<h4 style=\"color:#FF0000;\">Histogram: </h4> "
   ]
  },
  {
   "cell_type": "code",
   "execution_count": 127,
   "id": "3a308e02",
   "metadata": {},
   "outputs": [
    {
     "data": {
      "image/png": "[encoded data removed]",
      "text/plain": [
       "<Figure size 640x480 with 1 Axes>"
      ]
     },
     "metadata": {},
     "output_type": "display_data"
    }
   ],
   "source": [
    "plt.hist(data[\"Reading score\"],bins=10)\n",
    "plt.title('Distribution of Reading Scores')\n",
    "plt.xlabel('Reading score')\n",
    "plt.ylabel('Count')\n",
    "plt.show()"
   ]
  },
  {
   "cell_type": "markdown",
   "id": "c08289a4",
   "metadata": {},
   "source": [
    "<h3 style=\"color:#FF0000;\">Scatter plot: </h3>  "
   ]
  },
  {
   "cell_type": "code",
   "execution_count": 115,
   "id": "99f29d62",
   "metadata": {},
   "outputs": [
    {
     "data": {
      "image/png": "[encoded data removed]",
      "text/plain": [
       "<Figure size 640x480 with 1 Axes>"
      ]
     },
     "metadata": {},
     "output_type": "display_data"
    }
   ],
   "source": [
    "plt.scatter(data[\"Reading score\"],data[\"Math score\"])\n",
    "plt.xlabel('Reading score')\n",
    "plt.ylabel('Math score')\n",
    "plt.title('Relationship Between Reading score and Math score')\n",
    "plt.show()"
   ]
  },
  {
   "cell_type": "markdown",
   "id": "43bd6df9",
   "metadata": {},
   "source": [
    "<h3 style=\"color:#FF0000;\">Correlation matrix:</h3> "
   ]
  },
  {
   "cell_type": "code",
   "execution_count": 116,
   "id": "8ef67705",
   "metadata": {},
   "outputs": [
    {
     "data": {
      "text/plain": [
       "<Axes: >"
      ]
     },
     "execution_count": 116,
     "metadata": {},
     "output_type": "execute_result"
    },
    {
     "data": {
      "image/png": "[encoded data removed]",
      "text/plain": [
       "<Figure size 640x480 with 2 Axes>"
      ]
     },
     "metadata": {},
     "output_type": "display_data"
    }
   ],
   "source": [
    "corr_matrix = data.corr().round(2)\n",
    "sns.heatmap(corr_matrix, cmap='mako',center=0, annot=True)"
   ]
  },
  {
   "attachments": {},
   "cell_type": "markdown",
   "id": "10cbaf08",
   "metadata": {},
   "source": [
    "<div style='border:5px #FFF8DC solid;border-radius:15px'>\n",
    "<h1 style='text-align:center;margin-top:8px;margin-bottom:18px;font-size:20px'>Conclution</h1>\n",
    "    \n",
    "<p style='margin:6px 6px;font-size:16px'>The summary statistics for male and females in math score suggest that male students outperform female students in math, on average.There may be other factors, such as social and cultural factors, that contribute to the difference in math scores between males and females.\n",
    "</p>    \n",
    "<p style='margin:6px 6px;font-size:16px'>\n",
    "The summary statistics between reading and math score suggest that, on average, students in this dataset scored higher on reading than on math. However, the math scores have a greater degree of variability than the reading scores. It's worth noting that without additional information about the dataset, such as the population it represents or the context in which the scores were obtained, it's difficult to draw any definitive conclusions.\n",
    "<p/>\n",
    "<p style='margin:6px 6px;font-size:16px'>The fact that the skewness for both reading and math score is negative suggests that the distributions are both slightly skewed to the left, with more scores above the mean than below it. This could suggest that the tests were relatively easy or that the students were well-prepared for the tests. And based on the scatter plot analysis, it appears that there is a positive correlation between reading scores and math scores. This implies that students who perform well in reading are also likely to excel in math.</p>\n",
    "<p style='margin:6px 6px;font-size:16px'>\n",
    "Overall, the summary statistics suggest that there are differences in performance between students in reading and math.\n",
    "</p>\n",
    "<br>\n",
    "<h1 style='text-align:center;margin-top:8px;margin-bottom:18px;font-size:20px;font-weight:bold></h1>\n",
    "<h4 style='margin:6px 6px;font-size:16px'>1. Reflections on your learnings between this assignment and the previous one.</h4> \n",
    "    \n",
    "<p style='margin:6px 6px;font-size:16px'>In excel I have learnt the basics of working with data, such as cleaning, and transforming data, performing calculations and analysis, and creating charts and graphs.\n",
    "When I was doing Python assignment, I learnt how to work with larger and more complex datasets, perform more advanced analyses, and build predictive models using machine learning. I also learnt that there are libraries to use when preforming descriptive analysis.</p>\n",
    "    \n",
    "<h4 style='margin:6px 6px;font-size:16px'>2. What was different between Python and Excel?</h4>\n",
    "<p style='margin:6px 6px;font-size:16px'>Python can be used for a wide range of tasks, from data cleaning and pre-processing to statistical analysis and machine learning. Python has a large ecosystem of libraries and frameworks, such as Pandas, NumPy, and Seaborn, that make it easy to work with data and perform complex analyses. Python is also highly customizable, and you can build your own functions and modules to suit your needs.</p>\n",
    "<p style='margin:6px 6px;font-size:16px'>Excel, on the other hand, is a spreadsheet program that is primarily used for data entry, analysis, and visualization. Excel is good for working with small to medium-sized datasets and performing basic calculations and analyses. It also has features for filtering and sorting data, creating charts and graphs, and performing what-if analysis.</p>\n",
    "<h4 style='margin:6px 6px;font-size:16px'>3. When will you use either of them?</h4>\n",
    "<p style='margin:6px 6px;font-size:16px'>If I will be working with a large dataset, need to perform advanced analyses or modelling, or want to automate repetitive tasks, Python will be my first choice. If I will be working with a small to medium-sized dataset, need to perform basic calculations and analyses, or want to create simple charts and graphs, Excel will be my first choice.</p>\n",
    "<h4 style='margin:6px 6px;font-size:16px'>4. If you could do this assignment over, what would you do differently?</h4>\n",
    "    <ul>\n",
    "        <li style='margin:6px 6px;font-size:16px'>Organize the data: In Excel, it's common to work with data in a tabular format, where each row represents a single observation, and each column represents a variable. When transitioning to Python, it's important to organize the data in a way that makes it easy to work with using libraries such as Pandas. This might involve reshaping the data or splitting it into multiple files.</li>\n",
    "    </ul>\n",
    "    <ul>\n",
    "        <li style='margin:6px 6px;font-size:16px'>Keep formulas simple: Excel has a lot of built-in formulas and functions that can be used to perform calculations and analysis. However, many of these formulas can be complex and difficult to replicate in Python. When working in Excel, it's important to keep formulas as simple as possible, so that they can be easily translated to Python if needed.</li>\n",
    "    </ul>\n",
    "\n",
    "\n",
    "<h4 style='margin:6px 6px;font-size:16px'>5. What are the gaps in your programming or stats knowledge?</h4>\n",
    "    <ul>\n",
    "        <li style='margin:6px 6px;font-size:16px'>Data manipulation: To work with data in Python, I need to learn how to manipulate data using libraries such as Pandas and NumPy. This includes tasks such as cleaning data, reshaping data, and merging data.</li>\n",
    "    </ul>\n",
    "    <ul>\n",
    "        <li style='margin:6px 6px;font-size:16px'>Data visualization: Python has several libraries, such as Matplotlib and Seaborn, that allow you to create professional-looking charts and graphs. I need to learn how to use these libraries to visualize data effectively</li>\n",
    "    </ul>\n",
    "\n",
    "\n"
   ]
  },
  {
   "cell_type": "code",
   "execution_count": null,
   "id": "b9ac1e39",
   "metadata": {},
   "outputs": [],
   "source": []
  }
 ],
 "metadata": {
  "kernelspec": {
   "display_name": "Python 3 (ipykernel)",
   "language": "python",
   "name": "python3"
  },
  "language_info": {
   "codemirror_mode": {
    "name": "ipython",
    "version": 3
   },
   "file_extension": ".py",
   "mimetype": "text/x-python",
   "name": "python",
   "nbconvert_exporter": "python",
   "pygments_lexer": "ipython3",
   "version": "3.10.9"
  }
 },
 "nbformat": 4,
 "nbformat_minor": 5
}
